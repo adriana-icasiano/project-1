{
 "cells": [
  {
   "cell_type": "code",
   "execution_count": 1,
   "metadata": {},
   "outputs": [],
   "source": [
    "# Dependencies and Setup\n",
    "import matplotlib.pyplot as plt\n",
    "import pandas as pd\n",
    "import numpy as np\n",
    "import requests\n",
    "import time\n",
    "#from scipy.stats import linregress\n",
    "import json\n",
    "# Import API key\n",
    "import gmaps\n",
    "# Google developer API key\n",
    "from config import gkey\n",
    "\n",
    "# Configure gmaps\n",
    "gmaps.configure(api_key=gkey)"
   ]
  },
  {
   "cell_type": "code",
   "execution_count": 2,
   "metadata": {},
   "outputs": [
    {
     "data": {
      "text/html": [
       "<div>\n",
       "<style scoped>\n",
       "    .dataframe tbody tr th:only-of-type {\n",
       "        vertical-align: middle;\n",
       "    }\n",
       "\n",
       "    .dataframe tbody tr th {\n",
       "        vertical-align: top;\n",
       "    }\n",
       "\n",
       "    .dataframe thead th {\n",
       "        text-align: right;\n",
       "    }\n",
       "</style>\n",
       "<table border=\"1\" class=\"dataframe\">\n",
       "  <thead>\n",
       "    <tr style=\"text-align: right;\">\n",
       "      <th></th>\n",
       "      <th>TRVLCMIN</th>\n",
       "      <th>TRPMILES</th>\n",
       "      <th>TRPTRANS</th>\n",
       "      <th>TDWKND(1yes/2No)</th>\n",
       "      <th>WHYTRPHomeS</th>\n",
       "      <th>HHSTATE</th>\n",
       "      <th>URBRUR</th>\n",
       "      <th>R_AGE</th>\n",
       "      <th>EDUC</th>\n",
       "      <th>R_SEX</th>\n",
       "      <th>Population</th>\n",
       "    </tr>\n",
       "  </thead>\n",
       "  <tbody>\n",
       "    <tr>\n",
       "      <th>0</th>\n",
       "      <td>30</td>\n",
       "      <td>1.000</td>\n",
       "      <td>walk</td>\n",
       "      <td>2</td>\n",
       "      <td>Home</td>\n",
       "      <td>PA</td>\n",
       "      <td>URBAN</td>\n",
       "      <td>82</td>\n",
       "      <td>Graduate degree or professional degree</td>\n",
       "      <td>Male</td>\n",
       "      <td>4,000-9,999</td>\n",
       "    </tr>\n",
       "    <tr>\n",
       "      <th>1</th>\n",
       "      <td>30</td>\n",
       "      <td>1.000</td>\n",
       "      <td>walk</td>\n",
       "      <td>2</td>\n",
       "      <td>Home</td>\n",
       "      <td>PA</td>\n",
       "      <td>URBAN</td>\n",
       "      <td>78</td>\n",
       "      <td>Some college or associates degree</td>\n",
       "      <td>Female</td>\n",
       "      <td>4,000-9,999</td>\n",
       "    </tr>\n",
       "    <tr>\n",
       "      <th>2</th>\n",
       "      <td>15</td>\n",
       "      <td>0.688</td>\n",
       "      <td>walk</td>\n",
       "      <td>2</td>\n",
       "      <td>social/Recreational</td>\n",
       "      <td>CA</td>\n",
       "      <td>URBAN</td>\n",
       "      <td>40</td>\n",
       "      <td>Less than a high school graduate</td>\n",
       "      <td>Female</td>\n",
       "      <td>100-499</td>\n",
       "    </tr>\n",
       "    <tr>\n",
       "      <th>3</th>\n",
       "      <td>15</td>\n",
       "      <td>0.688</td>\n",
       "      <td>walk</td>\n",
       "      <td>2</td>\n",
       "      <td>Home</td>\n",
       "      <td>CA</td>\n",
       "      <td>URBAN</td>\n",
       "      <td>40</td>\n",
       "      <td>Less than a high school graduate</td>\n",
       "      <td>Female</td>\n",
       "      <td>100-499</td>\n",
       "    </tr>\n",
       "    <tr>\n",
       "      <th>4</th>\n",
       "      <td>5</td>\n",
       "      <td>0.239</td>\n",
       "      <td>walk</td>\n",
       "      <td>2</td>\n",
       "      <td>work</td>\n",
       "      <td>NY</td>\n",
       "      <td>URBAN</td>\n",
       "      <td>38</td>\n",
       "      <td>Bachelor's degree</td>\n",
       "      <td>Male</td>\n",
       "      <td>10,000-24,999</td>\n",
       "    </tr>\n",
       "  </tbody>\n",
       "</table>\n",
       "</div>"
      ],
      "text/plain": [
       "   TRVLCMIN  TRPMILES TRPTRANS  TDWKND(1yes/2No)          WHYTRPHomeS HHSTATE  \\\n",
       "0        30     1.000     walk                 2                 Home      PA   \n",
       "1        30     1.000     walk                 2                 Home      PA   \n",
       "2        15     0.688     walk                 2  social/Recreational      CA   \n",
       "3        15     0.688     walk                 2                 Home      CA   \n",
       "4         5     0.239     walk                 2                 work      NY   \n",
       "\n",
       "  URBRUR  R_AGE                                    EDUC   R_SEX    Population   \n",
       "0  URBAN     82  Graduate degree or professional degree    Male    4,000-9,999  \n",
       "1  URBAN     78       Some college or associates degree  Female    4,000-9,999  \n",
       "2  URBAN     40        Less than a high school graduate  Female        100-499  \n",
       "3  URBAN     40        Less than a high school graduate  Female        100-499  \n",
       "4  URBAN     38                       Bachelor's degree    Male  10,000-24,999  "
      ]
     },
     "execution_count": 2,
     "metadata": {},
     "output_type": "execute_result"
    }
   ],
   "source": [
    "trip_data=pd.read_csv(\"transport_data.csv\")\n",
    "trip_data.head()"
   ]
  },
  {
   "cell_type": "code",
   "execution_count": 3,
   "metadata": {},
   "outputs": [],
   "source": [
    "walk_time=(trip_data.loc[(trip_data[\"TRPTRANS\"]==\"walk\"),\"TRVLCMIN\"]).mean()\n",
    "Bike_time=trip_data.loc[(trip_data[\"TRPTRANS\"]==\"bike\",\"TRVLCMIN\")].mean()\n",
    "segway_time=trip_data.loc[(trip_data[\"TRPTRANS\"]==\"Golf Cart/Segway\",\"TRVLCMIN\")].mean()\n",
    "#scooter_time=trip_data.loc[(trip_data[\"TRPTRANS\"]==\"Scooters,Skateborad etc\",\"TRVLCMIN\")].mean()\n",
    "transport=[\"Walk\",\"Bike\",\"Segway/Scooters\"]\n",
    "mean_time=[walk_time,Bike_time,segway_time]"
   ]
  },
  {
   "cell_type": "code",
   "execution_count": 84,
   "metadata": {},
   "outputs": [
    {
     "data": {
      "image/png": "[encoded data removed]",
      "text/plain": [
       "<Figure size 432x288 with 1 Axes>"
      ]
     },
     "metadata": {
      "needs_background": "light"
     },
     "output_type": "display_data"
    }
   ],
   "source": [
    "plt.bar(transport, mean_time, color='r', alpha=0.5, align=\"center\")\n",
    "tick_locations = [value for value in transport]\n",
    "plt.xticks(tick_locations, [\"Walk\", \"Bike\", \"Segway/scooters\"])\n",
    "plt.title(\"Trip duration Vs Walk,Bike,Segway\")\n",
    "plt.xlabel(\"Mode of Commute\")\n",
    "plt.ylabel(\"Time of Trip Durations In Mins\")\n",
    "plt.savefig(\"TripDurations.png\")"
   ]
  },
  {
   "cell_type": "code",
   "execution_count": 5,
   "metadata": {},
   "outputs": [],
   "source": [
    "walk_dist=(trip_data.loc[(trip_data[\"TRPTRANS\"]==\"walk\"),\"TRPMILES\"]).mean()\n",
    "Bike_dist=trip_data.loc[(trip_data[\"TRPTRANS\"]==\"bike\",\"TRPMILES\")].mean()\n",
    "segway_dist=trip_data.loc[(trip_data[\"TRPTRANS\"]==\"Golf Cart/Segway\",\"TRPMILES\")].mean()\n",
    "#scooter_time=trip_data.loc[(trip_data[\"TRPTRANS\"]==\"Scooters,Skateborad etc\",\"TRPMILES\")].mean()\n",
    "transport=[\"Walk\",\"Bike\",\"Segway/Scooters\"]\n",
    "mean_dist=[walk_dist,Bike_dist,segway_dist]"
   ]
  },
  {
   "cell_type": "code",
   "execution_count": 85,
   "metadata": {},
   "outputs": [
    {
     "data": {
      "image/png": "[encoded data removed]",
      "text/plain": [
       "<Figure size 432x288 with 1 Axes>"
      ]
     },
     "metadata": {
      "needs_background": "light"
     },
     "output_type": "display_data"
    }
   ],
   "source": [
    "plt.bar(transport, mean_dist, color='blue', alpha=0.5, align=\"center\")\n",
    "tick_locations = [value for value in transport]\n",
    "plt.xticks(tick_locations, [\"Walk\", \"Bike\", \"Segway\", \"Scooters etc\"])\n",
    "plt.title(\"Commute Distance(Miles) Vs Walk,Bike,Segway\")\n",
    "plt.xlabel(\"Mode of Commute\")\n",
    "plt.ylabel(\"Average Commute Distance in Miles\")\n",
    "plt.savefig(\"Commutedistance.png\")"
   ]
  },
  {
   "cell_type": "code",
   "execution_count": 86,
   "metadata": {},
   "outputs": [
    {
     "name": "stdout",
     "output_type": "stream",
     "text": [
      "5908 2906 8814 32.97027456319492 67.0297254368051\n"
     ]
    }
   ],
   "source": [
    "#how many male vs Female using bike/Mcromobilty )\n",
    "#female_walk=(trip_data.loc[(trip_data[\"TRPTRANS\"]==\"walk\")&(trip_data[\"R_SEX\"]==\"Female\"),\"R_SEX\"]).count()\n",
    "#male_walk=(trip_data.loc[(trip_data[\"TRPTRANS\"]==\"walk\")&(trip_data[\"R_SEX\"]==\"Male\"),\"R_SEX\"]).count()\n",
    "\n",
    "female=trip_data.loc[(trip_data[\"TRPTRANS\"]==\"bike\")&(trip_data[\"R_SEX\"]==\"Female\"),\"R_SEX\"].count()\n",
    "male=trip_data.loc[(trip_data[\"TRPTRANS\"]==\"bike\")&(trip_data[\"R_SEX\"]==\"Male\"),\"R_SEX\"].count()\n",
    "\n",
    "\n",
    "female_segway=trip_data.loc[(trip_data[\"TRPTRANS\"]==\"Golf Cart/Segway\")&(trip_data[\"R_SEX\"]==\"Female\"),\"R_SEX\"].count()\n",
    "male_segway=trip_data.loc[(trip_data[\"TRPTRANS\"]==\"Golf Cart/Segway\")&(trip_data[\"R_SEX\"]==\"Male\"),\"R_SEX\"].count()\n",
    "\n",
    "tot_female_users=female+female_segway\n",
    "tot_male_users=male+male_segway\n",
    "\n",
    "tot_users=tot_male_users+tot_female_users\n",
    "\n",
    "female_percent=(tot_female_users/tot_users)*100\n",
    "\n",
    "male_percent=(tot_male_users/tot_users)*100\n",
    "print(tot_male_users,tot_female_users,tot_users,female_percent,male_percent)\n"
   ]
  },
  {
   "cell_type": "code",
   "execution_count": 87,
   "metadata": {},
   "outputs": [
    {
     "data": {
      "image/png": "[encoded data removed]",
      "text/plain": [
       "<Figure size 432x288 with 1 Axes>"
      ]
     },
     "metadata": {},
     "output_type": "display_data"
    }
   ],
   "source": [
    "gender=[\"Female\",\"Male\"]\n",
    "count=[female_percent,male_percent]\n",
    "colors = [\"red\",\"blue\"]\n",
    "plt.pie(count, labels=gender, colors=colors,\n",
    "        autopct=\"%1.1f%%\", shadow=True)\n",
    "# Create axes which are equal so we have a perfect circle\n",
    "plt.axis(\"equal\")\n",
    "plt.title(\"Percent Female Vs Male Users\")\n",
    "# Save an image of our chart and print the final product to the screen\n",
    "plt.savefig(\"genderusers.png\")\n",
    "plt.show()"
   ]
  },
  {
   "cell_type": "code",
   "execution_count": 38,
   "metadata": {},
   "outputs": [
    {
     "name": "stdout",
     "output_type": "stream",
     "text": [
      "89.01805869074492 10.98194130925508\n"
     ]
    }
   ],
   "source": [
    "\n",
    "#walk_time=(trip_data.loc[(trip_data[\"TRPTRANS\"]==\"walk\"),\"URBRUR\"]).mean()\n",
    "\n",
    "Bike_urban=trip_data.loc[(trip_data[\"TRPTRANS\"]==\"bike\")&(trip_data[\"URBRUR\"]==\"URBAN\"),\"URBRUR\"].count()\n",
    "Bike_rural=trip_data.loc[(trip_data[\"TRPTRANS\"]==\"bike\")&(trip_data[\"URBRUR\"]==\"Rural\"),\"URBRUR\"].count()\n",
    "\n",
    "segway_urban=trip_data.loc[(trip_data[\"TRPTRANS\"]==\"Golf Cart/Segway\")&(trip_data[\"URBRUR\"]==\"URBAN\"),\"URBRUR\"].count()\n",
    "segway_rural=trip_data.loc[(trip_data[\"TRPTRANS\"]==\"Golf Cart/Segway\")&(trip_data[\"URBRUR\"]==\"Rural\"),\"URBRUR\"].count()\n",
    "\n",
    "total_urban=Bike_urban+segway_urban\n",
    "total_rural=Bike_rural+segway_rural\n",
    "tot=total_urban+total_rural\n",
    "per_urban=(total_urban/tot)*100\n",
    "per_rural=(total_rural/tot)*100\n",
    "print(per_urban,per_rural)"
   ]
  },
  {
   "cell_type": "code",
   "execution_count": 88,
   "metadata": {},
   "outputs": [
    {
     "data": {
      "image/png": "[encoded data removed]",
      "text/plain": [
       "<Figure size 432x288 with 1 Axes>"
      ]
     },
     "metadata": {},
     "output_type": "display_data"
    }
   ],
   "source": [
    "urban_rural=[\"URBAN\",\"RURAL\"]\n",
    "count=[per_urban,per_rural]\n",
    "colors = [\"red\",\"blue\"]\n",
    "plt.pie(count, labels=urban_rural, colors=colors,\n",
    "        autopct=\"%1.1f%%\", shadow=True)\n",
    "# Create axes which are equal so we have a perfect circle\n",
    "plt.axis(\"equal\")\n",
    "plt.title(\"Percentage of Urban Vs Rural Users\")\n",
    "# Save an image of our chart and print the final product to the screen\n",
    "plt.savefig(\"urbanVsRural.png\")\n",
    "plt.show()"
   ]
  },
  {
   "cell_type": "code",
   "execution_count": 91,
   "metadata": {},
   "outputs": [
    {
     "name": "stdout",
     "output_type": "stream",
     "text": [
      "704 2861 2023\n"
     ]
    }
   ],
   "source": [
    "#mean age group plot\n",
    "bet_sixteen_twentyfive=trip_data.loc[(trip_data[\"TRPTRANS\"]==\"bike\")&((trip_data[\"R_AGE\"]>=16)&(trip_data[\"R_AGE\"]<=25)),\"R_AGE\"].count()\n",
    "\n",
    "bet_twentysix_fifty=trip_data.loc[(trip_data[\"TRPTRANS\"]==\"bike\")&((trip_data[\"R_AGE\"]>25)&(trip_data[\"R_AGE\"]<=50)),\"R_AGE\"].count()\n",
    "\n",
    "bet_fifty_sixtyfive=trip_data.loc[(trip_data[\"TRPTRANS\"]==\"bike\")&(trip_data[\"R_AGE\"]>50)&(trip_data[\"R_AGE\"]<=65),\"R_AGE\"].count()\n",
    "\n",
    "print(bet_sixteen_twentyfive,bet_twentysix_fifty,bet_fifty_sixtyfive)\n",
    "\n",
    "bet_sixteen_twentyfive_segway=trip_data.loc[(trip_data[\"TRPTRANS\"]==\"Golf Cart/Segway\")&((trip_data[\"R_AGE\"]>=16)&(trip_data[\"R_AGE\"]<=25)),\"R_AGE\"].count()\n",
    "bet_twentysix_fifty_segway=trip_data.loc[(trip_data[\"TRPTRANS\"]==\"Golf Cart/Segway\")&((trip_data[\"R_AGE\"]>25)&(trip_data[\"R_AGE\"]<=50)),\"R_AGE\"].count()\n",
    "bet_fifty_sixtyfive_segway=trip_data.loc[(trip_data[\"TRPTRANS\"]==\"Golf Cart/Segway\")&(trip_data[\"R_AGE\"]<=65),\"R_AGE\"].count()\n",
    "\n",
    "eighteen_total=(bet_sixteen_twentyfive+bet_sixteen_twentyfive_segway)\n",
    "                \n",
    "bet_ninteen_fortyfive_total=bet_twentysix_fifty+bet_twentysix_fifty_segway\n",
    "\n",
    "beyondfortyfive_total=bet_fifty_sixtyfive+bet_fifty_sixtyfive_segway\n",
    "tot=eighteen_total+bet_ninteen_fortyfive_total+beyondfortyfive_total\n",
    "\n",
    "per_eighteen_total=(eighteen_total/tot)*100\n",
    "per_bet_ninteen_fortyfive_total=(bet_ninteen_fortyfive_total/tot)*100\n",
    "per_beyondfortyfive_total=(beyondfortyfive_total/tot)*100              \n",
    "age_groups=[\"16<AgeGroup<=25\",\"25<AgeGroup<=50\",\"50<AgeGroup<65\"]\n",
    "x_axis=[per_eighteen_total,per_bet_ninteen_fortyfive_total,per_beyondfortyfive_total]\n"
   ]
  },
  {
   "cell_type": "code",
   "execution_count": 93,
   "metadata": {},
   "outputs": [
    {
     "data": {
      "image/png": "[encoded data removed]",
      "text/plain": [
       "<Figure size 432x288 with 1 Axes>"
      ]
     },
     "metadata": {
      "needs_background": "light"
     },
     "output_type": "display_data"
    }
   ],
   "source": [
    "plt.bar(age_groups, x_axis, color='blue', alpha=0.5, align=\"center\")\n",
    "tick_locations = [value for value in age_groups]\n",
    "plt.xticks(tick_locations, [\"AgeGroup<18\",\"19<AgeGroup<55\",\"AgeGroup>55\"])\n",
    "plt.xlabel(\"Age Group\")\n",
    "plt.ylabel(\"Percentage of AgeGroup Users\")\n",
    "plt.savefig(\"AgeGroup.png\")"
   ]
  },
  {
   "cell_type": "code",
   "execution_count": null,
   "metadata": {},
   "outputs": [],
   "source": []
  }
 ],
 "metadata": {
  "kernelspec": {
   "display_name": "Python [conda env:PythonData] *",
   "language": "python",
   "name": "conda-env-PythonData-py"
  },
  "language_info": {
   "codemirror_mode": {
    "name": "ipython",
    "version": 3
   },
   "file_extension": ".py",
   "mimetype": "text/x-python",
   "name": "python",
   "nbconvert_exporter": "python",
   "pygments_lexer": "ipython3",
   "version": "3.6.10"
  }
 },
 "nbformat": 4,
 "nbformat_minor": 4
}
