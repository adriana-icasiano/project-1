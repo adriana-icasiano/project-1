{
 "cells": [
  {
   "cell_type": "code",
   "execution_count": 4,
   "metadata": {},
   "outputs": [],
   "source": [
    "# Dependencies and Setup\n",
    "import matplotlib.pyplot as plt\n",
    "import pandas as pd\n",
    "import numpy as np\n",
    "import requests\n",
    "import time\n",
    "from scipy.stats import linregress\n",
    "import json\n",
    "# Import API key\n",
    "import gmaps\n",
    "# Google developer API key\n",
    "from config import gkey\n",
    "from datetime import date\n",
    "# Configure gmaps\n",
    "gmaps.configure(api_key=gkey)\n",
    "from pprint import pprint\n",
    "import itertools\n",
    "\n"
   ]
  },
  {
   "cell_type": "code",
   "execution_count": 6,
   "metadata": {},
   "outputs": [],
   "source": [
    "combined_df=pd.read_csv(\"Bird_Spin_Lime_Lat_Lon.csv\")\n",
    "# spin_df=pd.read_csv(\"../spin-us-cities/Spin_Lat_Lon.csv\")\n",
    "# lime_df=pd.read_csv(\"../lime-us-cities/Lime_Lat_Lon.csv\")"
   ]
  },
  {
   "cell_type": "code",
   "execution_count": 1,
   "metadata": {},
   "outputs": [],
   "source": [
    "# combined_df = bird_df.append(lime_df)\n",
    "# combined_df = combined_df.append(spin_df)\n",
    "# combined_df = combined_df.loc[combined_df['Count']>0]\n",
    "# combined_df\n",
    "\n",
    "# merge_df = bird_df.append(spin_df)\n",
    "# merge_df = merge_df.append(lime_df)\n",
    "# del merge_df['Unnamed: 0']\n",
    "# merge_df"
   ]
  },
  {
   "cell_type": "code",
   "execution_count": 4,
   "metadata": {},
   "outputs": [],
   "source": [
    "# combined_df.to_csv('Bird_Spin_Lime_Lat_Lon.csv')"
   ]
  },
  {
   "cell_type": "code",
   "execution_count": 7,
   "metadata": {},
   "outputs": [
    {
     "data": {
      "text/plain": [
       "0      324\n",
       "1      606\n",
       "2       38\n",
       "3       73\n",
       "4       75\n",
       "      ... \n",
       "61     141\n",
       "62    1708\n",
       "63      60\n",
       "64      25\n",
       "65     227\n",
       "Name: Count, Length: 66, dtype: int64"
      ]
     },
     "execution_count": 7,
     "metadata": {},
     "output_type": "execute_result"
    }
   ],
   "source": [
    "locations = combined_df[['lat','lon']]\n",
    "            \n",
    "locations\n",
    "\n",
    "count = combined_df[\"Count\"]\n",
    "count"
   ]
  },
  {
   "cell_type": "code",
   "execution_count": 12,
   "metadata": {},
   "outputs": [
    {
     "data": {
      "text/plain": [
       "Unnamed: 0                                                   2070\n",
       "Unnamed: 0.1                                                 2070\n",
       "lat                                                        2488.7\n",
       "lon                                                      -6319.85\n",
       "City            Alexandria, VAChicago, ILCleveland, OHColumbus...\n",
       "Operator        BirdBirdBirdBirdBirdBirdBirdBirdBirdBirdBirdBi...\n",
       "Count                                                       20011\n",
       "Date            2021-05-172021-05-172021-05-172021-05-172021-0...\n",
       "dtype: object"
      ]
     },
     "execution_count": 12,
     "metadata": {},
     "output_type": "execute_result"
    }
   ],
   "source": [
    "combined_df.sum()"
   ]
  },
  {
   "cell_type": "code",
   "execution_count": 8,
   "metadata": {},
   "outputs": [
    {
     "data": {
      "application/vnd.jupyter.widget-view+json": {
       "model_id": "9a44f9e26c5940c891eb5303eae54434",
       "version_major": 2,
       "version_minor": 0
      },
      "text/plain": [
       "Figure(layout=FigureLayout(height='420px'))"
      ]
     },
     "metadata": {},
     "output_type": "display_data"
    }
   ],
   "source": [
    "\n",
    "#generating the heat map using the city(lat and lon values) with\n",
    "fig = gmaps.figure()\n",
    "\n",
    "heat_layer = gmaps.heatmap_layer(locations, weights = count,\n",
    "                                 dissipating=False, max_intensity=100,\n",
    "                                 point_radius = 1)\n",
    "\n",
    "fig.add_layer(heat_layer)\n",
    "\n",
    "fig"
   ]
  },
  {
   "cell_type": "code",
   "execution_count": 9,
   "metadata": {},
   "outputs": [
    {
     "data": {
      "application/vnd.jupyter.widget-view+json": {
       "model_id": "130f740f5476434f827f83d37b002af0",
       "version_major": 2,
       "version_minor": 0
      },
      "text/plain": [
       "Figure(layout=FigureLayout(height='420px'))"
      ]
     },
     "metadata": {},
     "output_type": "display_data"
    }
   ],
   "source": [
    "# df = gmaps.datasets.load_dataset_as_df('starbucks_kfc_uk')\n",
    "\n",
    "bird_df = combined_df[combined_df['Operator'] == 'Bird']\n",
    "bird_df = combined_df[['lat', 'lon']]\n",
    "\n",
    "lime_df = combined_df[combined_df['Operator'] == 'Lime']\n",
    "lime_df = combined_df[['lat', 'lon']]\n",
    "\n",
    "spin_df = combined_df[combined_df['Operator'] == 'Spin']\n",
    "spin_df = combined_df[['lat', 'lon']]\n",
    "\n",
    "\n",
    "bird_layer = gmaps.symbol_layer(\n",
    "    bird_df, fill_color='rgba(0, 255, 0, 0.4)',\n",
    "    stroke_color='rgba(0, 255, 0, 0.4)', scale=3\n",
    ")\n",
    "\n",
    "lime_layer = gmaps.symbol_layer(\n",
    "    lime_df, fill_color='rgba(0, 0, 0, 0.4)',\n",
    "    stroke_color='rgba(0, 0, 0, 0.4)', scale=5\n",
    ")\n",
    "\n",
    "spin_layer = gmaps.symbol_layer(\n",
    "    lime_df, fill_color='rgba(0, 0, 128, 0.4)',\n",
    "    stroke_color='rgba(0, 0, 128, 0.4)', scale=5\n",
    ")\n",
    "fig = gmaps.figure()\n",
    "fig.add_layer(bird_layer)\n",
    "fig.add_layer(lime_layer)\n",
    "fig.add_layer(spin_layer)\n",
    "# fig.add_layer(heat_layer)\n",
    "fig\n"
   ]
  },
  {
   "cell_type": "code",
   "execution_count": 10,
   "metadata": {},
   "outputs": [],
   "source": [
    "#look at google gmaps documentation\n",
    "# Using the template add the hotel marks to the heatmap\n",
    "info_box_template = \"\"\"\n",
    "<dl>\n",
    "<dt>Operator Name</dt><dd>{Operator}</dd>\n",
    "<dt>City</dt><dd>{City}</dd>\n",
    "<dt>E-Scooters</dt><dd>{Count}</dd>\n",
    "</dl>\n",
    "\"\"\"\n",
    "# Store the DataFrame Row\n",
    "# NOTE: be sure to update with your DataFrame name\n",
    "escooter_info = [info_box_template.format(**row) for index, row in combined_df.iterrows()]\n",
    "locations = combined_df[[\"lat\", \"lon\"]]"
   ]
  },
  {
   "cell_type": "code",
   "execution_count": 11,
   "metadata": {},
   "outputs": [
    {
     "data": {
      "application/vnd.jupyter.widget-view+json": {
       "model_id": "130f740f5476434f827f83d37b002af0",
       "version_major": 2,
       "version_minor": 0
      },
      "text/plain": [
       "Figure(layout=FigureLayout(height='420px'))"
      ]
     },
     "metadata": {},
     "output_type": "display_data"
    }
   ],
   "source": [
    "# Add marker layer ontop of heat map\n",
    "markers = gmaps.marker_layer(locations,\n",
    "    info_box_content=escooter_info)\n",
    "fig.add_layer(markers)\n",
    "\n",
    "# Display figure\n",
    "fig"
   ]
  },
  {
   "cell_type": "code",
   "execution_count": null,
   "metadata": {},
   "outputs": [],
   "source": []
  }
 ],
 "metadata": {
  "kernelspec": {
   "display_name": "Python [conda env:pythondata]",
   "language": "python",
   "name": "conda-env-pythondata-py"
  },
  "language_info": {
   "codemirror_mode": {
    "name": "ipython",
    "version": 3
   },
   "file_extension": ".py",
   "mimetype": "text/x-python",
   "name": "python",
   "nbconvert_exporter": "python",
   "pygments_lexer": "ipython3",
   "version": "3.6.10"
  }
 },
 "nbformat": 4,
 "nbformat_minor": 4
}
