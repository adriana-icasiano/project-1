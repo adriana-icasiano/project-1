{
 "cells": [
  {
   "cell_type": "code",
   "execution_count": 1,
   "metadata": {},
   "outputs": [],
   "source": [
    "# Dependencies and Setup\n",
    "import matplotlib.pyplot as plt\n",
    "import pandas as pd\n",
    "import numpy as np\n",
    "import requests\n",
    "import time\n",
    "from scipy.stats import linregress\n",
    "import json\n",
    "# Import API key\n",
    "import gmaps\n",
    "# Google developer API key\n",
    "from config import gkey\n",
    "from datetime import date\n",
    "# Configure gmaps\n",
    "gmaps.configure(api_key=gkey)\n",
    "from pprint import pprint\n",
    "import itertools\n",
    "\n"
   ]
  },
  {
   "cell_type": "code",
   "execution_count": 2,
   "metadata": {},
   "outputs": [],
   "source": [
    "bird_df=pd.read_csv(\"../bird-us-cities-Adri/Bird_Lat_Lon.csv\")\n",
    "spin_df=pd.read_csv(\"../spin-us-cities/Spin_Lat_Lon.csv\")\n",
    "lime_df=pd.read_csv(\"../lime-us-cities/Lime_Lat_Lon.csv\")"
   ]
  },
  {
   "cell_type": "code",
   "execution_count": 3,
   "metadata": {},
   "outputs": [
    {
     "data": {
      "text/html": [
       "<div>\n",
       "<style scoped>\n",
       "    .dataframe tbody tr th:only-of-type {\n",
       "        vertical-align: middle;\n",
       "    }\n",
       "\n",
       "    .dataframe tbody tr th {\n",
       "        vertical-align: top;\n",
       "    }\n",
       "\n",
       "    .dataframe thead th {\n",
       "        text-align: right;\n",
       "    }\n",
       "</style>\n",
       "<table border=\"1\" class=\"dataframe\">\n",
       "  <thead>\n",
       "    <tr style=\"text-align: right;\">\n",
       "      <th></th>\n",
       "      <th>Unnamed: 0</th>\n",
       "      <th>lat</th>\n",
       "      <th>lon</th>\n",
       "      <th>City</th>\n",
       "      <th>Operator</th>\n",
       "      <th>Count</th>\n",
       "      <th>Date</th>\n",
       "    </tr>\n",
       "  </thead>\n",
       "  <tbody>\n",
       "    <tr>\n",
       "      <th>0</th>\n",
       "      <td>0</td>\n",
       "      <td>38.818551</td>\n",
       "      <td>-77.086283</td>\n",
       "      <td>Alexandria, VA</td>\n",
       "      <td>Bird</td>\n",
       "      <td>324</td>\n",
       "      <td>2021-05-17</td>\n",
       "    </tr>\n",
       "    <tr>\n",
       "      <th>1</th>\n",
       "      <td>1</td>\n",
       "      <td>41.829070</td>\n",
       "      <td>-87.677237</td>\n",
       "      <td>Chicago, IL</td>\n",
       "      <td>Bird</td>\n",
       "      <td>606</td>\n",
       "      <td>2021-05-17</td>\n",
       "    </tr>\n",
       "    <tr>\n",
       "      <th>2</th>\n",
       "      <td>2</td>\n",
       "      <td>41.516952</td>\n",
       "      <td>-81.640884</td>\n",
       "      <td>Cleveland, OH</td>\n",
       "      <td>Bird</td>\n",
       "      <td>38</td>\n",
       "      <td>2021-05-17</td>\n",
       "    </tr>\n",
       "    <tr>\n",
       "      <th>3</th>\n",
       "      <td>3</td>\n",
       "      <td>39.987058</td>\n",
       "      <td>-83.018589</td>\n",
       "      <td>Columbus, OH</td>\n",
       "      <td>Bird</td>\n",
       "      <td>73</td>\n",
       "      <td>2021-05-17</td>\n",
       "    </tr>\n",
       "    <tr>\n",
       "      <th>4</th>\n",
       "      <td>4</td>\n",
       "      <td>34.057228</td>\n",
       "      <td>-118.379876</td>\n",
       "      <td>Culver City, CA</td>\n",
       "      <td>Bird</td>\n",
       "      <td>75</td>\n",
       "      <td>2021-05-17</td>\n",
       "    </tr>\n",
       "    <tr>\n",
       "      <th>...</th>\n",
       "      <td>...</td>\n",
       "      <td>...</td>\n",
       "      <td>...</td>\n",
       "      <td>...</td>\n",
       "      <td>...</td>\n",
       "      <td>...</td>\n",
       "      <td>...</td>\n",
       "    </tr>\n",
       "    <tr>\n",
       "      <th>73</th>\n",
       "      <td>73</td>\n",
       "      <td>28.538335</td>\n",
       "      <td>-81.379237</td>\n",
       "      <td>Orlando, FL</td>\n",
       "      <td>Lime</td>\n",
       "      <td>141</td>\n",
       "      <td>2021-05-17</td>\n",
       "    </tr>\n",
       "    <tr>\n",
       "      <th>76</th>\n",
       "      <td>76</td>\n",
       "      <td>38.907192</td>\n",
       "      <td>-77.036871</td>\n",
       "      <td>Washington, DC</td>\n",
       "      <td>Lime</td>\n",
       "      <td>1708</td>\n",
       "      <td>2021-05-17</td>\n",
       "    </tr>\n",
       "    <tr>\n",
       "      <th>77</th>\n",
       "      <td>77</td>\n",
       "      <td>38.580461</td>\n",
       "      <td>-121.530234</td>\n",
       "      <td>West Sacramento, CA</td>\n",
       "      <td>Lime</td>\n",
       "      <td>60</td>\n",
       "      <td>2021-05-17</td>\n",
       "    </tr>\n",
       "    <tr>\n",
       "      <th>78</th>\n",
       "      <td>78</td>\n",
       "      <td>47.508567</td>\n",
       "      <td>-122.355116</td>\n",
       "      <td>White Center, WA</td>\n",
       "      <td>Lime</td>\n",
       "      <td>25</td>\n",
       "      <td>2021-05-17</td>\n",
       "    </tr>\n",
       "    <tr>\n",
       "      <th>80</th>\n",
       "      <td>80</td>\n",
       "      <td>36.099860</td>\n",
       "      <td>-80.244216</td>\n",
       "      <td>Winston Salem, NC</td>\n",
       "      <td>Lime</td>\n",
       "      <td>227</td>\n",
       "      <td>2021-05-17</td>\n",
       "    </tr>\n",
       "  </tbody>\n",
       "</table>\n",
       "<p>66 rows × 7 columns</p>\n",
       "</div>"
      ],
      "text/plain": [
       "    Unnamed: 0        lat         lon                 City Operator  Count  \\\n",
       "0            0  38.818551  -77.086283       Alexandria, VA     Bird    324   \n",
       "1            1  41.829070  -87.677237          Chicago, IL     Bird    606   \n",
       "2            2  41.516952  -81.640884        Cleveland, OH     Bird     38   \n",
       "3            3  39.987058  -83.018589         Columbus, OH     Bird     73   \n",
       "4            4  34.057228 -118.379876      Culver City, CA     Bird     75   \n",
       "..         ...        ...         ...                  ...      ...    ...   \n",
       "73          73  28.538335  -81.379237          Orlando, FL     Lime    141   \n",
       "76          76  38.907192  -77.036871       Washington, DC     Lime   1708   \n",
       "77          77  38.580461 -121.530234  West Sacramento, CA     Lime     60   \n",
       "78          78  47.508567 -122.355116     White Center, WA     Lime     25   \n",
       "80          80  36.099860  -80.244216    Winston Salem, NC     Lime    227   \n",
       "\n",
       "          Date  \n",
       "0   2021-05-17  \n",
       "1   2021-05-17  \n",
       "2   2021-05-17  \n",
       "3   2021-05-17  \n",
       "4   2021-05-17  \n",
       "..         ...  \n",
       "73  2021-05-17  \n",
       "76  2021-05-17  \n",
       "77  2021-05-17  \n",
       "78  2021-05-17  \n",
       "80  2021-05-17  \n",
       "\n",
       "[66 rows x 7 columns]"
      ]
     },
     "execution_count": 3,
     "metadata": {},
     "output_type": "execute_result"
    }
   ],
   "source": [
    "combined_df = bird_df.append(lime_df)\n",
    "combined_df = combined_df.append(spin_df)\n",
    "combined_df = combined_df.loc[combined_df['Count']>0]\n",
    "combined_df\n",
    "\n",
    "# merge_df = bird_df.append(spin_df)\n",
    "# merge_df = merge_df.append(lime_df)\n",
    "# del merge_df['Unnamed: 0']\n",
    "# merge_df"
   ]
  },
  {
   "cell_type": "code",
   "execution_count": 4,
   "metadata": {},
   "outputs": [],
   "source": [
    "combined_df.to_csv('Bird_Spin_Lime_Lat_Lon.csv')"
   ]
  },
  {
   "cell_type": "code",
   "execution_count": 5,
   "metadata": {},
   "outputs": [
    {
     "data": {
      "text/plain": [
       "0      324\n",
       "1      606\n",
       "2       38\n",
       "3       73\n",
       "4       75\n",
       "      ... \n",
       "73     141\n",
       "76    1708\n",
       "77      60\n",
       "78      25\n",
       "80     227\n",
       "Name: Count, Length: 66, dtype: int64"
      ]
     },
     "execution_count": 5,
     "metadata": {},
     "output_type": "execute_result"
    }
   ],
   "source": [
    "locations = combined_df[['lat','lon']]\n",
    "            \n",
    "locations\n",
    "\n",
    "count = combined_df[\"Count\"]\n",
    "count"
   ]
  },
  {
   "cell_type": "code",
   "execution_count": 6,
   "metadata": {},
   "outputs": [
    {
     "data": {
      "application/vnd.jupyter.widget-view+json": {
       "model_id": "324fb7092b9b4e64ae90fc07a656b6e4",
       "version_major": 2,
       "version_minor": 0
      },
      "text/plain": [
       "Figure(layout=FigureLayout(height='420px'))"
      ]
     },
     "metadata": {},
     "output_type": "display_data"
    }
   ],
   "source": [
    "\n",
    "#generating the heat map using the city(lat and lon values) with\n",
    "fig = gmaps.figure()\n",
    "\n",
    "heat_layer = gmaps.heatmap_layer(locations, weights = count,\n",
    "                                 dissipating=False, max_intensity=100,\n",
    "                                 point_radius = 1)\n",
    "\n",
    "fig.add_layer(heat_layer)\n",
    "\n",
    "fig"
   ]
  },
  {
   "cell_type": "code",
   "execution_count": 7,
   "metadata": {},
   "outputs": [],
   "source": [
    "#look at google gmaps documentation\n",
    "# Using the template add the hotel marks to the heatmap\n",
    "info_box_template = \"\"\"\n",
    "<dl>\n",
    "<dt>Operator Name</dt><dd>{Operator}</dd>\n",
    "<dt>City</dt><dd>{City}</dd>\n",
    "<dt>E-Scooters</dt><dd>{Count}</dd>\n",
    "</dl>\n",
    "\"\"\"\n",
    "# Store the DataFrame Row\n",
    "# NOTE: be sure to update with your DataFrame name\n",
    "escooter_info = [info_box_template.format(**row) for index, row in combined_df.iterrows()]\n",
    "locations = combined_df[[\"lat\", \"lon\"]]"
   ]
  },
  {
   "cell_type": "code",
   "execution_count": 8,
   "metadata": {},
   "outputs": [
    {
     "data": {
      "application/vnd.jupyter.widget-view+json": {
       "model_id": "324fb7092b9b4e64ae90fc07a656b6e4",
       "version_major": 2,
       "version_minor": 0
      },
      "text/plain": [
       "Figure(layout=FigureLayout(height='420px'))"
      ]
     },
     "metadata": {},
     "output_type": "display_data"
    }
   ],
   "source": [
    "# Add marker layer ontop of heat map\n",
    "markers = gmaps.marker_layer(locations,\n",
    "    info_box_content=escooter_info)\n",
    "fig.add_layer(markers)\n",
    "\n",
    "# Display figure\n",
    "fig"
   ]
  },
  {
   "cell_type": "code",
   "execution_count": null,
   "metadata": {},
   "outputs": [],
   "source": []
  }
 ],
 "metadata": {
  "kernelspec": {
   "display_name": "Python [conda env:pythondata]",
   "language": "python",
   "name": "conda-env-pythondata-py"
  },
  "language_info": {
   "codemirror_mode": {
    "name": "ipython",
    "version": 3
   },
   "file_extension": ".py",
   "mimetype": "text/x-python",
   "name": "python",
   "nbconvert_exporter": "python",
   "pygments_lexer": "ipython3",
   "version": "3.6.10"
  }
 },
 "nbformat": 4,
 "nbformat_minor": 4
}
