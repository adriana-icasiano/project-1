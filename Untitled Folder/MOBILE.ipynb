{
 "cells": [
  {
   "cell_type": "code",
   "execution_count": 1,
   "metadata": {},
   "outputs": [],
   "source": [
    "import pandas as pd"
   ]
  },
  {
   "cell_type": "code",
   "execution_count": 2,
   "metadata": {},
   "outputs": [],
   "source": [
    "#CSV FILE\n",
    "file = \"Mobility.csv\""
   ]
  },
  {
   "cell_type": "code",
   "execution_count": 3,
   "metadata": {},
   "outputs": [
    {
     "data": {
      "text/html": [
       "<div>\n",
       "<style scoped>\n",
       "    .dataframe tbody tr th:only-of-type {\n",
       "        vertical-align: middle;\n",
       "    }\n",
       "\n",
       "    .dataframe tbody tr th {\n",
       "        vertical-align: top;\n",
       "    }\n",
       "\n",
       "    .dataframe thead th {\n",
       "        text-align: right;\n",
       "    }\n",
       "</style>\n",
       "<table border=\"1\" class=\"dataframe\">\n",
       "  <thead>\n",
       "    <tr style=\"text-align: right;\">\n",
       "      <th></th>\n",
       "      <th>provider_name</th>\n",
       "      <th>provider_id</th>\n",
       "      <th>url</th>\n",
       "      <th>mds_api_url</th>\n",
       "      <th>gbfs_api_url</th>\n",
       "    </tr>\n",
       "  </thead>\n",
       "  <tbody>\n",
       "    <tr>\n",
       "      <th>0</th>\n",
       "      <td>JUMP</td>\n",
       "      <td>c20e08cf-8488-46a6-a66c-5d8fb827f7e0</td>\n",
       "      <td>https://jump.com</td>\n",
       "      <td>https://api.uber.com/v0.2/emobility/mds</td>\n",
       "      <td>NaN</td>\n",
       "    </tr>\n",
       "    <tr>\n",
       "      <th>1</th>\n",
       "      <td>Lime</td>\n",
       "      <td>63f13c48-34ff-49d2-aca7-cf6a5b6171c3</td>\n",
       "      <td>https://li.me</td>\n",
       "      <td>https://data.lime.bike/api/partners/v1/mds</td>\n",
       "      <td>NaN</td>\n",
       "    </tr>\n",
       "    <tr>\n",
       "      <th>2</th>\n",
       "      <td>Bird</td>\n",
       "      <td>2411d395-04f2-47c9-ab66-d09e9e3c3251</td>\n",
       "      <td>https://www.bird.co</td>\n",
       "      <td>https://mds.bird.co</td>\n",
       "      <td>https://mds.bird.co/gbfs</td>\n",
       "    </tr>\n",
       "    <tr>\n",
       "      <th>3</th>\n",
       "      <td>Razor</td>\n",
       "      <td>6ddcc0ad-1d66-4046-bba4-d1d96bb8ca4d</td>\n",
       "      <td>https://www.razor.com/share</td>\n",
       "      <td>https://razor-200806.appspot.com/api/v2/mds</td>\n",
       "      <td>NaN</td>\n",
       "    </tr>\n",
       "    <tr>\n",
       "      <th>4</th>\n",
       "      <td>Lyft</td>\n",
       "      <td>e714f168-ce56-4b41-81b7-0b6a4bd26128</td>\n",
       "      <td>https://www.lyft.com</td>\n",
       "      <td>https://api.lyft.com/v1/last-mile/mds</td>\n",
       "      <td>NaN</td>\n",
       "    </tr>\n",
       "  </tbody>\n",
       "</table>\n",
       "</div>"
      ],
      "text/plain": [
       "  provider_name                           provider_id  \\\n",
       "0          JUMP  c20e08cf-8488-46a6-a66c-5d8fb827f7e0   \n",
       "1          Lime  63f13c48-34ff-49d2-aca7-cf6a5b6171c3   \n",
       "2          Bird  2411d395-04f2-47c9-ab66-d09e9e3c3251   \n",
       "3         Razor  6ddcc0ad-1d66-4046-bba4-d1d96bb8ca4d   \n",
       "4          Lyft  e714f168-ce56-4b41-81b7-0b6a4bd26128   \n",
       "\n",
       "                           url                                  mds_api_url  \\\n",
       "0             https://jump.com      https://api.uber.com/v0.2/emobility/mds   \n",
       "1                https://li.me   https://data.lime.bike/api/partners/v1/mds   \n",
       "2          https://www.bird.co                          https://mds.bird.co   \n",
       "3  https://www.razor.com/share  https://razor-200806.appspot.com/api/v2/mds   \n",
       "4         https://www.lyft.com        https://api.lyft.com/v1/last-mile/mds   \n",
       "\n",
       "               gbfs_api_url  \n",
       "0                       NaN  \n",
       "1                       NaN  \n",
       "2  https://mds.bird.co/gbfs  \n",
       "3                       NaN  \n",
       "4                       NaN  "
      ]
     },
     "execution_count": 3,
     "metadata": {},
     "output_type": "execute_result"
    }
   ],
   "source": [
    "df = pd.read_csv(file)\n",
    "df.head()"
   ]
  },
  {
   "cell_type": "code",
   "execution_count": null,
   "metadata": {},
   "outputs": [],
   "source": []
  }
 ],
 "metadata": {
  "kernelspec": {
   "display_name": "Python 3",
   "language": "python",
   "name": "python3"
  },
  "language_info": {
   "codemirror_mode": {
    "name": "ipython",
    "version": 3
   },
   "file_extension": ".py",
   "mimetype": "text/x-python",
   "name": "python",
   "nbconvert_exporter": "python",
   "pygments_lexer": "ipython3",
   "version": "3.8.5"
  }
 },
 "nbformat": 4,
 "nbformat_minor": 4
}
